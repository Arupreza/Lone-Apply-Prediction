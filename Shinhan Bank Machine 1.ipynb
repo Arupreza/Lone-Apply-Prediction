{
 "cells": [
  {
   "cell_type": "code",
   "execution_count": 59,
   "id": "af0d4e38",
   "metadata": {},
   "outputs": [],
   "source": [
    "#Import Required Libraries\n",
    "import pandas as pd\n",
    "import numpy as np\n",
    "import seaborn as sns\n",
    "from sklearn.preprocessing import MinMaxScaler\n",
    "from matplotlib.colors import LogNorm \n",
    "from matplotlib import pyplot as plt\n",
    "from matplotlib.pyplot import figure\n",
    "from pandas import ExcelWriter\n",
    "from pandas import ExcelFile\n",
    "import glob\n",
    "import pywt\n",
    "import datetime\n",
    "from tensorflow.keras.utils import to_categorical\n",
    "from scipy import signal\n",
    "from termcolor import colored\n",
    "from tensorflow.keras.layers import BatchNormalization\n",
    "%matplotlib inline"
   ]
  },
  {
   "cell_type": "code",
   "execution_count": 60,
   "id": "49cc92a7",
   "metadata": {},
   "outputs": [],
   "source": [
    "import os\n",
    "os.environ['CUDA_VISIBLE_DEVICES'] = '0'\n",
    "import numpy as np\n",
    "from keras import layers\n",
    "from tensorflow.keras.layers import Conv2D,Flatten,MaxPooling2D,Bidirectional,LSTM,Dropout,TimeDistributed,MaxPool2D\n",
    "from keras.models import Model, load_model\n",
    "from tensorflow.keras.layers import Dense,GlobalAveragePooling1D\n",
    "from keras.layers import LeakyReLU\n",
    "from keras.initializers import glorot_uniform\n",
    "from tensorflow.keras.models import Sequential\n",
    "from keras.utils.vis_utils import plot_model\n",
    "from IPython.display import SVG\n",
    "from keras.utils.vis_utils import model_to_dot\n",
    "import keras.backend as K\n",
    "from tensorflow.keras.utils import to_categorical\n",
    "import tensorflow as tf"
   ]
  },
  {
   "cell_type": "code",
   "execution_count": 61,
   "id": "9e204fac",
   "metadata": {},
   "outputs": [],
   "source": [
    "X_train = np.array(pd.read_csv('X_train_1.csv'))\n",
    "y_train = np.array(pd.read_csv('y_train_1.csv'))\n",
    "X_test = np.array(pd.read_csv('X_test_1.csv'))\n",
    "y_test = np.array(pd.read_csv('y_test_1.csv'))"
   ]
  },
  {
   "cell_type": "code",
   "execution_count": 62,
   "id": "2e391dce",
   "metadata": {},
   "outputs": [
    {
     "name": "stdout",
     "output_type": "stream",
     "text": [
      "(1112299, 28)\n",
      "(1112299, 1)\n",
      "(58543, 28)\n",
      "(58543, 1)\n"
     ]
    }
   ],
   "source": [
    "print(X_train.shape)\n",
    "print(y_train.shape)\n",
    "print(X_test.shape)\n",
    "print(y_test.shape)"
   ]
  },
  {
   "cell_type": "code",
   "execution_count": 63,
   "id": "cfd955a7",
   "metadata": {},
   "outputs": [],
   "source": [
    "y_train = to_categorical(y_train, 2)\n",
    "y_test = to_categorical(y_test, 2)"
   ]
  },
  {
   "cell_type": "code",
   "execution_count": 64,
   "id": "b9ecf4b3",
   "metadata": {},
   "outputs": [],
   "source": [
    "#Resape data into 3 dimention\n",
    "X_train = np.reshape(X_train, (X_train.shape[0], 1, 28, 1))\n",
    "X_test = np.reshape(np.array(X_test), (X_test.shape[0], 1, 28, 1))"
   ]
  },
  {
   "cell_type": "code",
   "execution_count": 65,
   "id": "b26b4cf0",
   "metadata": {},
   "outputs": [
    {
     "name": "stdout",
     "output_type": "stream",
     "text": [
      "[[[6.66666667e-01]\n",
      "  [9.10780669e-01]\n",
      "  [3.00000000e-04]\n",
      "  [2.95000000e-01]\n",
      "  [9.86520220e-01]\n",
      "  [5.00000000e-01]\n",
      "  [7.60000000e-01]\n",
      "  [4.00000000e-03]\n",
      "  [0.00000000e+00]\n",
      "  [0.00000000e+00]\n",
      "  [6.66666667e-01]\n",
      "  [7.33333333e-01]\n",
      "  [1.00000000e-03]\n",
      "  [1.00000000e+00]\n",
      "  [1.00000000e+00]\n",
      "  [2.80898876e-02]\n",
      "  [2.30298190e-02]\n",
      "  [3.81097561e-03]\n",
      "  [1.64609053e-03]\n",
      "  [1.13378685e-02]\n",
      "  [8.96860987e-03]\n",
      "  [1.02564103e-02]\n",
      "  [1.85399768e-02]\n",
      "  [2.53485425e-02]\n",
      "  [1.31108462e-02]\n",
      "  [0.00000000e+00]\n",
      "  [0.00000000e+00]\n",
      "  [0.00000000e+00]]]\n",
      "\n",
      "\n",
      "[0. 1.]\n"
     ]
    }
   ],
   "source": [
    "print(X_train[0])\n",
    "print('\\n')\n",
    "print(y_train[0])"
   ]
  },
  {
   "cell_type": "code",
   "execution_count": 66,
   "id": "62841357",
   "metadata": {},
   "outputs": [
    {
     "name": "stdout",
     "output_type": "stream",
     "text": [
      "Model: \"sequential_1\"\n",
      "_________________________________________________________________\n",
      " Layer (type)                Output Shape              Param #   \n",
      "=================================================================\n",
      " conv2d_5 (Conv2D)           (None, 1, 28, 64)         640       \n",
      "                                                                 \n",
      " conv2d_6 (Conv2D)           (None, 1, 28, 64)         36928     \n",
      "                                                                 \n",
      " max_pooling2d_3 (MaxPooling  (None, 1, 14, 64)        0         \n",
      " 2D)                                                             \n",
      "                                                                 \n",
      " batch_normalization_3 (Batc  (None, 1, 14, 64)        256       \n",
      " hNormalization)                                                 \n",
      "                                                                 \n",
      " conv2d_7 (Conv2D)           (None, 1, 14, 128)        73856     \n",
      "                                                                 \n",
      " conv2d_8 (Conv2D)           (None, 1, 14, 128)        147584    \n",
      "                                                                 \n",
      " max_pooling2d_4 (MaxPooling  (None, 1, 7, 128)        0         \n",
      " 2D)                                                             \n",
      "                                                                 \n",
      " batch_normalization_4 (Batc  (None, 1, 7, 128)        512       \n",
      " hNormalization)                                                 \n",
      "                                                                 \n",
      " conv2d_9 (Conv2D)           (None, 1, 7, 256)         295168    \n",
      "                                                                 \n",
      " max_pooling2d_5 (MaxPooling  (None, 1, 4, 256)        0         \n",
      " 2D)                                                             \n",
      "                                                                 \n",
      " batch_normalization_5 (Batc  (None, 1, 4, 256)        1024      \n",
      " hNormalization)                                                 \n",
      "                                                                 \n",
      " flatten_1 (Flatten)         (None, 1024)              0         \n",
      "                                                                 \n",
      " dense_2 (Dense)             (None, 512)               524800    \n",
      "                                                                 \n",
      " dense_3 (Dense)             (None, 2)                 1026      \n",
      "                                                                 \n",
      "=================================================================\n",
      "Total params: 1,081,794\n",
      "Trainable params: 1,080,898\n",
      "Non-trainable params: 896\n",
      "_________________________________________________________________\n"
     ]
    }
   ],
   "source": [
    "model=Sequential()\n",
    "\n",
    "#model.add(Lambda(standardize,input_shape=(28,28,1)))    \n",
    "model.add(Conv2D(filters=64, kernel_size = (3,3), activation=\"relu\", padding='same', input_shape=(1, 28, 1)))\n",
    "model.add(Conv2D(filters=64, kernel_size = (3,3), activation=\"relu\", padding='same'))\n",
    "model.add(MaxPooling2D(pool_size=(2,2),padding='same'))\n",
    "model.add(BatchNormalization())\n",
    "\n",
    "model.add(Conv2D(filters=128, kernel_size = (3,3), activation=\"relu\", padding='same'))\n",
    "model.add(Conv2D(filters=128, kernel_size = (3,3), activation=\"relu\", padding='same'))\n",
    "model.add(MaxPooling2D(pool_size=(2,2),padding='same'))\n",
    "model.add(BatchNormalization())    \n",
    "\n",
    "model.add(Conv2D(filters=256, kernel_size = (3,3), activation=\"relu\", padding='same'))\n",
    "model.add(MaxPooling2D(pool_size=(2,2),padding='same'))\n",
    "model.add(BatchNormalization())\n",
    "    \n",
    "model.add(Flatten())\n",
    "model.add(Dense(512,activation=\"relu\"))\n",
    "    \n",
    "model.add(Dense(2,activation=\"softmax\"))\n",
    "\n",
    "#optimizer = tf.keras.optimizers.Adam(learning_rate=0.001)\n",
    "\n",
    "model.compile(loss=\"categorical_crossentropy\", optimizer='adam', metrics=[\"accuracy\"])\n",
    "model.summary()"
   ]
  },
  {
   "cell_type": "code",
   "execution_count": 67,
   "id": "40f69b40",
   "metadata": {},
   "outputs": [],
   "source": [
    "cp = tf.keras.callbacks.ModelCheckpoint(filepath=\"Final_Project_CNN_1.h5\",\n",
    "                               mode='min', monitor='val_loss', verbose=0, save_best_only=True)\n",
    "# define our early stopping\n",
    "early_stop = tf.keras.callbacks.EarlyStopping(\n",
    "    monitor='val_loss',\n",
    "    min_delta=0.0001,\n",
    "    patience=10,\n",
    "    verbose=1, \n",
    "    mode='min',\n",
    "    restore_best_weights=True)"
   ]
  },
  {
   "cell_type": "code",
   "execution_count": 68,
   "id": "985948f1",
   "metadata": {},
   "outputs": [
    {
     "name": "stdout",
     "output_type": "stream",
     "text": [
      "Epoch 1/500\n",
      "17380/17380 [==============================] - 94s 5ms/step - loss: 0.4993 - accuracy: 0.7525 - val_loss: 0.4791 - val_accuracy: 0.7679\n",
      "Epoch 2/500\n",
      "17380/17380 [==============================] - 94s 5ms/step - loss: 0.4627 - accuracy: 0.7764 - val_loss: 0.4663 - val_accuracy: 0.7763\n",
      "Epoch 3/500\n",
      "17380/17380 [==============================] - 94s 5ms/step - loss: 0.4445 - accuracy: 0.7877 - val_loss: 0.4582 - val_accuracy: 0.7783\n",
      "Epoch 4/500\n",
      "17380/17380 [==============================] - 94s 5ms/step - loss: 0.4368 - accuracy: 0.7924 - val_loss: 0.4447 - val_accuracy: 0.7868\n",
      "Epoch 5/500\n",
      "17380/17380 [==============================] - 93s 5ms/step - loss: 0.4324 - accuracy: 0.7953 - val_loss: 0.4563 - val_accuracy: 0.7799\n",
      "Epoch 6/500\n",
      "17380/17380 [==============================] - 93s 5ms/step - loss: 0.4287 - accuracy: 0.7970 - val_loss: 0.4447 - val_accuracy: 0.7885\n",
      "Epoch 7/500\n",
      "17380/17380 [==============================] - 93s 5ms/step - loss: 0.4258 - accuracy: 0.7988 - val_loss: 0.4304 - val_accuracy: 0.7950\n",
      "Epoch 8/500\n",
      "17380/17380 [==============================] - 94s 5ms/step - loss: 0.4232 - accuracy: 0.8003 - val_loss: 0.4355 - val_accuracy: 0.7920\n",
      "Epoch 9/500\n",
      "17380/17380 [==============================] - 93s 5ms/step - loss: 0.4205 - accuracy: 0.8017 - val_loss: 0.4442 - val_accuracy: 0.7897\n",
      "Epoch 10/500\n",
      "17380/17380 [==============================] - 93s 5ms/step - loss: 0.4187 - accuracy: 0.8030 - val_loss: 0.4472 - val_accuracy: 0.7878\n",
      "Epoch 11/500\n",
      "17380/17380 [==============================] - 95s 5ms/step - loss: 0.4165 - accuracy: 0.8041 - val_loss: 0.4418 - val_accuracy: 0.7886\n",
      "Epoch 12/500\n",
      "17380/17380 [==============================] - 96s 6ms/step - loss: 0.4148 - accuracy: 0.8049 - val_loss: 0.4350 - val_accuracy: 0.7920\n",
      "Epoch 13/500\n",
      "17380/17380 [==============================] - 96s 6ms/step - loss: 0.4127 - accuracy: 0.8064 - val_loss: 0.4284 - val_accuracy: 0.7959\n",
      "Epoch 14/500\n",
      "17380/17380 [==============================] - 96s 5ms/step - loss: 0.4110 - accuracy: 0.8074 - val_loss: 0.4260 - val_accuracy: 0.7990\n",
      "Epoch 15/500\n",
      "17380/17380 [==============================] - 95s 5ms/step - loss: 0.4090 - accuracy: 0.8082 - val_loss: 0.4299 - val_accuracy: 0.7962\n",
      "Epoch 16/500\n",
      "17380/17380 [==============================] - 95s 5ms/step - loss: 0.4073 - accuracy: 0.8094 - val_loss: 0.4283 - val_accuracy: 0.7950\n",
      "Epoch 17/500\n",
      "17380/17380 [==============================] - 95s 5ms/step - loss: 0.4055 - accuracy: 0.8107 - val_loss: 0.4249 - val_accuracy: 0.7992\n",
      "Epoch 18/500\n",
      "17380/17380 [==============================] - 94s 5ms/step - loss: 0.4041 - accuracy: 0.8114 - val_loss: 0.4263 - val_accuracy: 0.7969\n",
      "Epoch 19/500\n",
      "17380/17380 [==============================] - 93s 5ms/step - loss: 0.4026 - accuracy: 0.8119 - val_loss: 0.4211 - val_accuracy: 0.8007\n",
      "Epoch 20/500\n",
      "17380/17380 [==============================] - 93s 5ms/step - loss: 0.4007 - accuracy: 0.8132 - val_loss: 0.4290 - val_accuracy: 0.7988\n",
      "Epoch 21/500\n",
      "17380/17380 [==============================] - 97s 6ms/step - loss: 0.3989 - accuracy: 0.8141 - val_loss: 0.4255 - val_accuracy: 0.7990\n",
      "Epoch 22/500\n",
      "17380/17380 [==============================] - 96s 6ms/step - loss: 0.3977 - accuracy: 0.8148 - val_loss: 0.4250 - val_accuracy: 0.7988\n",
      "Epoch 23/500\n",
      "17380/17380 [==============================] - 96s 6ms/step - loss: 0.3963 - accuracy: 0.8156 - val_loss: 0.4262 - val_accuracy: 0.7991\n",
      "Epoch 24/500\n",
      "17380/17380 [==============================] - 94s 5ms/step - loss: 0.3948 - accuracy: 0.8163 - val_loss: 0.4254 - val_accuracy: 0.8006\n",
      "Epoch 25/500\n",
      "17380/17380 [==============================] - 94s 5ms/step - loss: 0.3935 - accuracy: 0.8175 - val_loss: 0.4241 - val_accuracy: 0.8006\n",
      "Epoch 26/500\n",
      "17380/17380 [==============================] - 95s 5ms/step - loss: 0.3919 - accuracy: 0.8185 - val_loss: 0.4303 - val_accuracy: 0.7993\n",
      "Epoch 27/500\n",
      "17380/17380 [==============================] - 92s 5ms/step - loss: 0.3905 - accuracy: 0.8189 - val_loss: 0.4205 - val_accuracy: 0.8028\n",
      "Epoch 28/500\n",
      "17380/17380 [==============================] - 98s 6ms/step - loss: 0.3892 - accuracy: 0.8198 - val_loss: 0.4206 - val_accuracy: 0.8021\n",
      "Epoch 29/500\n",
      "17380/17380 [==============================] - 94s 5ms/step - loss: 0.3876 - accuracy: 0.8206 - val_loss: 0.4233 - val_accuracy: 0.8019\n",
      "Epoch 30/500\n",
      "17380/17380 [==============================] - 94s 5ms/step - loss: 0.3862 - accuracy: 0.8210 - val_loss: 0.4238 - val_accuracy: 0.8013\n",
      "Epoch 31/500\n",
      "17380/17380 [==============================] - 94s 5ms/step - loss: 0.3850 - accuracy: 0.8217 - val_loss: 0.4276 - val_accuracy: 0.8001\n",
      "Epoch 32/500\n",
      "17380/17380 [==============================] - 99s 6ms/step - loss: 0.3837 - accuracy: 0.8226 - val_loss: 0.4267 - val_accuracy: 0.8021\n",
      "Epoch 33/500\n",
      "17380/17380 [==============================] - 94s 5ms/step - loss: 0.3824 - accuracy: 0.8233 - val_loss: 0.4210 - val_accuracy: 0.8030\n",
      "Epoch 34/500\n",
      "17380/17380 [==============================] - 107s 6ms/step - loss: 0.3810 - accuracy: 0.8244 - val_loss: 0.4253 - val_accuracy: 0.8026\n",
      "Epoch 35/500\n",
      "17380/17380 [==============================] - 104s 6ms/step - loss: 0.3795 - accuracy: 0.8252 - val_loss: 0.4260 - val_accuracy: 0.7985\n",
      "Epoch 36/500\n",
      "17380/17380 [==============================] - 102s 6ms/step - loss: 0.3787 - accuracy: 0.8257 - val_loss: 0.4251 - val_accuracy: 0.8029\n",
      "Epoch 37/500\n",
      "17379/17380 [============================>.] - ETA: 0s - loss: 0.3774 - accuracy: 0.8264Restoring model weights from the end of the best epoch: 27.\n",
      "17380/17380 [==============================] - 351s 20ms/step - loss: 0.3774 - accuracy: 0.8264 - val_loss: 0.4264 - val_accuracy: 0.8024\n",
      "Epoch 00037: early stopping\n"
     ]
    }
   ],
   "source": [
    "history = model.fit(X_train, y_train,\n",
    "                    epochs=500,\n",
    "                    batch_size=64,\n",
    "                    shuffle=True,\n",
    "                    validation_data=(X_test, y_test),\n",
    "                    verbose=1,\n",
    "                    callbacks=[cp, early_stop]\n",
    "                    ).history"
   ]
  },
  {
   "cell_type": "code",
   "execution_count": 69,
   "id": "e329f4c9",
   "metadata": {},
   "outputs": [],
   "source": [
    "from keras.models import load_model\n",
    "\n",
    "# returns a compiled model\n",
    "# identical to the previous one\n",
    "model = load_model('Final_Project_CNN_1.h5')"
   ]
  },
  {
   "cell_type": "code",
   "execution_count": 70,
   "id": "b68bdb63",
   "metadata": {},
   "outputs": [],
   "source": [
    "#Prediction\n",
    "pred = model.predict(X_test)\n",
    "#obj = scaler.fit(y_pred)\n",
    "#predicted = obj.inverse_transform(y_pred)"
   ]
  },
  {
   "cell_type": "code",
   "execution_count": 71,
   "id": "575fff35",
   "metadata": {},
   "outputs": [
    {
     "name": "stdout",
     "output_type": "stream",
     "text": [
      "[[25228  6685]\n",
      " [ 4862 21768]]\n"
     ]
    }
   ],
   "source": [
    "from sklearn.metrics import confusion_matrix\n",
    "\n",
    "y_pred = np.argmax(pred, axis=1)\n",
    "# label\n",
    "y_test = np.argmax(y_test, axis=1)\n",
    "#Get the confusion matrix\n",
    "cf_matrix = confusion_matrix(y_test, y_pred)\n",
    "\n",
    "print(cf_matrix)"
   ]
  },
  {
   "cell_type": "code",
   "execution_count": 76,
   "id": "821f7770",
   "metadata": {},
   "outputs": [
    {
     "data": {
      "image/png": "[encoded data removed]",
      "text/plain": [
       "<Figure size 1500x1300 with 1 Axes>"
      ]
     },
     "metadata": {},
     "output_type": "display_data"
    }
   ],
   "source": [
    "#group_names = ['True Neg','False Pos','False Neg','True Pos','True Pos','True Pos','True Pos','True Pos','True Pos']\n",
    "\n",
    "group_counts = [\"{0:0.0f}\".format(value) for value in\n",
    "                cf_matrix.flatten()]\n",
    "\n",
    "group_percentages = [\"{0:.2%}\".format(value) for value in\n",
    "                     cf_matrix.flatten()/np.sum(cf_matrix)]\n",
    "\n",
    "labels = [f\"{v1}\\n{v2}\\n\" for v1, v2 in\n",
    "          zip(group_counts,group_percentages)]\n",
    "\n",
    "labels = np.asarray(labels).reshape(2,2)\n",
    "sns.set(rc={'figure.figsize':(15,13)})\n",
    "sns.set(font_scale=1.8) #edited as suggested\n",
    "ax = sns.heatmap(cf_matrix, annot=labels, fmt='', cmap='Blues', cbar=False)\n",
    "\n",
    "\n",
    "ax.set_xlabel('\\nActual Category ', fontname=\"Times New Roman\", size=22,fontweight=\"bold\")\n",
    "ax.set_ylabel('Predicted Category \\n', fontname=\"Times New Roman\", size=22,fontweight=\"bold\");\n",
    "#ax.text(0.01, 2.30, 'Fig. 9. (b) Confusion Matrix GRU Binary Class Classification Vehicle 4',fontsize=25,fontweight=\"bold\")\n",
    "\n",
    "## Ticket labels - List must be in alphabetical order\n",
    "ax.xaxis.set_ticklabels([\"Not Applied\", \"Applied\"],fontweight=\"bold\", fontname=\"Times New Roman\", size=18)\n",
    "ax.yaxis.set_ticklabels([\"Not Applied\", \"Applied\"],fontweight=\"bold\", fontname=\"Times New Roman\", size=18)\n",
    "ax.xaxis.label.set_color('darkblue')\n",
    "ax.yaxis.label.set_color('darkblue')\n",
    "ax.set_title('CNN 1 Confusion Matrix with labels', fontsize=20,fontweight=\"bold\")\n",
    "## Display the visualization of the Confusion Matrix.\n",
    "plt.show()"
   ]
  },
  {
   "cell_type": "code",
   "execution_count": 73,
   "id": "081e9c76",
   "metadata": {},
   "outputs": [
    {
     "name": "stdout",
     "output_type": "stream",
     "text": [
      "              precision    recall  f1-score   support\n",
      "\n",
      " Not Applied       0.84      0.79      0.81     31913\n",
      "     Applied       0.77      0.82      0.79     26630\n",
      "\n",
      "    accuracy                           0.80     58543\n",
      "   macro avg       0.80      0.80      0.80     58543\n",
      "weighted avg       0.81      0.80      0.80     58543\n",
      "\n"
     ]
    }
   ],
   "source": [
    "from sklearn.metrics import classification_report\n",
    "class_names = [\"Not Applied\", \"Applied\"]\n",
    "print(classification_report(y_test, y_pred, target_names=class_names))"
   ]
  },
  {
   "cell_type": "markdown",
   "id": "623382b0",
   "metadata": {},
   "source": [
    "# Result"
   ]
  },
  {
   "cell_type": "code",
   "execution_count": 17,
   "id": "94fb7c39",
   "metadata": {},
   "outputs": [],
   "source": [
    "result_sec_x = np.array(pd.read_csv('result_sec_x.csv'))"
   ]
  },
  {
   "cell_type": "code",
   "execution_count": 19,
   "id": "3e12dd85",
   "metadata": {},
   "outputs": [],
   "source": [
    "result_sec_x = np.reshape(result_sec_x, (result_sec_x.shape[0], 1, 28, 1))"
   ]
  },
  {
   "cell_type": "code",
   "execution_count": 20,
   "id": "a23670a9",
   "metadata": {},
   "outputs": [],
   "source": [
    "#Prediction\n",
    "pred = model.predict(result_sec_x)\n",
    "#obj = scaler.fit(y_pred)\n",
    "#predicted = obj.inverse_transform(y_pred)"
   ]
  },
  {
   "cell_type": "code",
   "execution_count": 22,
   "id": "a3b9b5ae",
   "metadata": {},
   "outputs": [
    {
     "data": {
      "text/plain": [
       "array([0, 0, 1, ..., 0, 0, 0], dtype=int64)"
      ]
     },
     "execution_count": 22,
     "metadata": {},
     "output_type": "execute_result"
    }
   ],
   "source": [
    "np.argmax(pred, axis=1)"
   ]
  },
  {
   "cell_type": "code",
   "execution_count": 39,
   "id": "14b79d9b",
   "metadata": {},
   "outputs": [
    {
     "data": {
      "text/plain": [
       "0    2770678\n",
       "1     390928\n",
       "dtype: int64"
      ]
     },
     "execution_count": 39,
     "metadata": {},
     "output_type": "execute_result"
    }
   ],
   "source": [
    "pd.DataFrame(np.argmax((pred), axis=1)).value_counts()"
   ]
  },
  {
   "cell_type": "code",
   "execution_count": 44,
   "id": "c17a35ac",
   "metadata": {},
   "outputs": [
    {
     "ename": "IndexError",
     "evalue": "only integers, slices (`:`), ellipsis (`...`), numpy.newaxis (`None`) and integer or boolean arrays are valid indices",
     "output_type": "error",
     "traceback": [
      "\u001b[1;31m---------------------------------------------------------------------------\u001b[0m",
      "\u001b[1;31mIndexError\u001b[0m                                Traceback (most recent call last)",
      "Input \u001b[1;32mIn [44]\u001b[0m, in \u001b[0;36m<cell line: 1>\u001b[1;34m()\u001b[0m\n\u001b[1;32m----> 1\u001b[0m result_sec_x[\u001b[38;5;124m'\u001b[39m\u001b[38;5;124mis_applied\u001b[39m\u001b[38;5;124m'\u001b[39m] \u001b[38;5;241m=\u001b[39m pd\u001b[38;5;241m.\u001b[39mDataFrame(np\u001b[38;5;241m.\u001b[39margmax(pred, axis\u001b[38;5;241m=\u001b[39m\u001b[38;5;241m1\u001b[39m)\u001b[38;5;241m.\u001b[39mastype(\u001b[38;5;28mint\u001b[39m))\n\u001b[0;32m      2\u001b[0m result_sec_x\n",
      "\u001b[1;31mIndexError\u001b[0m: only integers, slices (`:`), ellipsis (`...`), numpy.newaxis (`None`) and integer or boolean arrays are valid indices"
     ]
    }
   ],
   "source": []
  },
  {
   "cell_type": "code",
   "execution_count": 48,
   "id": "fe4b3971",
   "metadata": {},
   "outputs": [],
   "source": [
    "Result_output = pd.DataFrame(np.argmax(pred, axis=1).astype(int), columns=['Result_output'])"
   ]
  },
  {
   "cell_type": "code",
   "execution_count": 49,
   "id": "9933c599",
   "metadata": {},
   "outputs": [],
   "source": [
    "result_final_output = pd.read_csv('result_final_output.csv')"
   ]
  },
  {
   "cell_type": "code",
   "execution_count": 55,
   "id": "62944b5a",
   "metadata": {},
   "outputs": [],
   "source": [
    "Shinhan_Bank_Machine_1_result = pd.concat([result_final_output, Result_output], axis = 1)"
   ]
  },
  {
   "cell_type": "code",
   "execution_count": 57,
   "id": "409ba734",
   "metadata": {},
   "outputs": [
    {
     "ename": "KeyError",
     "evalue": "('application_id', 'product_id')",
     "output_type": "error",
     "traceback": [
      "\u001b[1;31m---------------------------------------------------------------------------\u001b[0m",
      "\u001b[1;31mKeyError\u001b[0m                                  Traceback (most recent call last)",
      "File \u001b[1;32m~\\anaconda3\\lib\\site-packages\\pandas\\core\\indexes\\base.py:3621\u001b[0m, in \u001b[0;36mIndex.get_loc\u001b[1;34m(self, key, method, tolerance)\u001b[0m\n\u001b[0;32m   3620\u001b[0m \u001b[38;5;28;01mtry\u001b[39;00m:\n\u001b[1;32m-> 3621\u001b[0m     \u001b[38;5;28;01mreturn\u001b[39;00m \u001b[38;5;28;43mself\u001b[39;49m\u001b[38;5;241;43m.\u001b[39;49m\u001b[43m_engine\u001b[49m\u001b[38;5;241;43m.\u001b[39;49m\u001b[43mget_loc\u001b[49m\u001b[43m(\u001b[49m\u001b[43mcasted_key\u001b[49m\u001b[43m)\u001b[49m\n\u001b[0;32m   3622\u001b[0m \u001b[38;5;28;01mexcept\u001b[39;00m \u001b[38;5;167;01mKeyError\u001b[39;00m \u001b[38;5;28;01mas\u001b[39;00m err:\n",
      "File \u001b[1;32m~\\anaconda3\\lib\\site-packages\\pandas\\_libs\\index.pyx:136\u001b[0m, in \u001b[0;36mpandas._libs.index.IndexEngine.get_loc\u001b[1;34m()\u001b[0m\n",
      "File \u001b[1;32m~\\anaconda3\\lib\\site-packages\\pandas\\_libs\\index.pyx:163\u001b[0m, in \u001b[0;36mpandas._libs.index.IndexEngine.get_loc\u001b[1;34m()\u001b[0m\n",
      "File \u001b[1;32mpandas\\_libs\\hashtable_class_helper.pxi:5198\u001b[0m, in \u001b[0;36mpandas._libs.hashtable.PyObjectHashTable.get_item\u001b[1;34m()\u001b[0m\n",
      "File \u001b[1;32mpandas\\_libs\\hashtable_class_helper.pxi:5206\u001b[0m, in \u001b[0;36mpandas._libs.hashtable.PyObjectHashTable.get_item\u001b[1;34m()\u001b[0m\n",
      "\u001b[1;31mKeyError\u001b[0m: ('application_id', 'product_id')",
      "\nThe above exception was the direct cause of the following exception:\n",
      "\u001b[1;31mKeyError\u001b[0m                                  Traceback (most recent call last)",
      "Input \u001b[1;32mIn [57]\u001b[0m, in \u001b[0;36m<cell line: 1>\u001b[1;34m()\u001b[0m\n\u001b[1;32m----> 1\u001b[0m \u001b[43mShinhan_Bank_Machine_1_result\u001b[49m\u001b[43m[\u001b[49m\u001b[38;5;124;43m'\u001b[39;49m\u001b[38;5;124;43mapplication_id\u001b[39;49m\u001b[38;5;124;43m'\u001b[39;49m\u001b[43m,\u001b[49m\u001b[43m \u001b[49m\u001b[38;5;124;43m'\u001b[39;49m\u001b[38;5;124;43mproduct_id\u001b[39;49m\u001b[38;5;124;43m'\u001b[39;49m\u001b[43m]\u001b[49m\n",
      "File \u001b[1;32m~\\anaconda3\\lib\\site-packages\\pandas\\core\\frame.py:3505\u001b[0m, in \u001b[0;36mDataFrame.__getitem__\u001b[1;34m(self, key)\u001b[0m\n\u001b[0;32m   3503\u001b[0m \u001b[38;5;28;01mif\u001b[39;00m \u001b[38;5;28mself\u001b[39m\u001b[38;5;241m.\u001b[39mcolumns\u001b[38;5;241m.\u001b[39mnlevels \u001b[38;5;241m>\u001b[39m \u001b[38;5;241m1\u001b[39m:\n\u001b[0;32m   3504\u001b[0m     \u001b[38;5;28;01mreturn\u001b[39;00m \u001b[38;5;28mself\u001b[39m\u001b[38;5;241m.\u001b[39m_getitem_multilevel(key)\n\u001b[1;32m-> 3505\u001b[0m indexer \u001b[38;5;241m=\u001b[39m \u001b[38;5;28;43mself\u001b[39;49m\u001b[38;5;241;43m.\u001b[39;49m\u001b[43mcolumns\u001b[49m\u001b[38;5;241;43m.\u001b[39;49m\u001b[43mget_loc\u001b[49m\u001b[43m(\u001b[49m\u001b[43mkey\u001b[49m\u001b[43m)\u001b[49m\n\u001b[0;32m   3506\u001b[0m \u001b[38;5;28;01mif\u001b[39;00m is_integer(indexer):\n\u001b[0;32m   3507\u001b[0m     indexer \u001b[38;5;241m=\u001b[39m [indexer]\n",
      "File \u001b[1;32m~\\anaconda3\\lib\\site-packages\\pandas\\core\\indexes\\base.py:3623\u001b[0m, in \u001b[0;36mIndex.get_loc\u001b[1;34m(self, key, method, tolerance)\u001b[0m\n\u001b[0;32m   3621\u001b[0m     \u001b[38;5;28;01mreturn\u001b[39;00m \u001b[38;5;28mself\u001b[39m\u001b[38;5;241m.\u001b[39m_engine\u001b[38;5;241m.\u001b[39mget_loc(casted_key)\n\u001b[0;32m   3622\u001b[0m \u001b[38;5;28;01mexcept\u001b[39;00m \u001b[38;5;167;01mKeyError\u001b[39;00m \u001b[38;5;28;01mas\u001b[39;00m err:\n\u001b[1;32m-> 3623\u001b[0m     \u001b[38;5;28;01mraise\u001b[39;00m \u001b[38;5;167;01mKeyError\u001b[39;00m(key) \u001b[38;5;28;01mfrom\u001b[39;00m \u001b[38;5;21;01merr\u001b[39;00m\n\u001b[0;32m   3624\u001b[0m \u001b[38;5;28;01mexcept\u001b[39;00m \u001b[38;5;167;01mTypeError\u001b[39;00m:\n\u001b[0;32m   3625\u001b[0m     \u001b[38;5;66;03m# If we have a listlike key, _check_indexing_error will raise\u001b[39;00m\n\u001b[0;32m   3626\u001b[0m     \u001b[38;5;66;03m#  InvalidIndexError. Otherwise we fall through and re-raise\u001b[39;00m\n\u001b[0;32m   3627\u001b[0m     \u001b[38;5;66;03m#  the TypeError.\u001b[39;00m\n\u001b[0;32m   3628\u001b[0m     \u001b[38;5;28mself\u001b[39m\u001b[38;5;241m.\u001b[39m_check_indexing_error(key)\n",
      "\u001b[1;31mKeyError\u001b[0m: ('application_id', 'product_id')"
     ]
    }
   ],
   "source": [
    "Shinhan_Bank_Machine_1_result['application_id', 'product_id']"
   ]
  },
  {
   "cell_type": "code",
   "execution_count": 58,
   "id": "cc235e03",
   "metadata": {},
   "outputs": [
    {
     "data": {
      "text/plain": [
       "array([[[[9.52380952e-02],\n",
       "         [8.14126394e-01],\n",
       "         [4.33275563e-05],\n",
       "         ...,\n",
       "         [0.00000000e+00],\n",
       "         [2.77777778e-02],\n",
       "         [0.00000000e+00]]],\n",
       "\n",
       "\n",
       "       [[[9.52380952e-02],\n",
       "         [7.06319703e-01],\n",
       "         [1.12651646e-04],\n",
       "         ...,\n",
       "         [0.00000000e+00],\n",
       "         [2.77777778e-02],\n",
       "         [0.00000000e+00]]],\n",
       "\n",
       "\n",
       "       [[[5.39682540e-01],\n",
       "         [1.04089219e-01],\n",
       "         [2.16637782e-05],\n",
       "         ...,\n",
       "         [0.00000000e+00],\n",
       "         [0.00000000e+00],\n",
       "         [0.00000000e+00]]],\n",
       "\n",
       "\n",
       "       ...,\n",
       "\n",
       "\n",
       "       [[[1.42857143e-01],\n",
       "         [5.50185874e-01],\n",
       "         [4.33275563e-05],\n",
       "         ...,\n",
       "         [0.00000000e+00],\n",
       "         [0.00000000e+00],\n",
       "         [0.00000000e+00]]],\n",
       "\n",
       "\n",
       "       [[[5.55555556e-01],\n",
       "         [5.79925651e-01],\n",
       "         [4.76603120e-05],\n",
       "         ...,\n",
       "         [0.00000000e+00],\n",
       "         [0.00000000e+00],\n",
       "         [0.00000000e+00]]],\n",
       "\n",
       "\n",
       "       [[[1.42857143e-01],\n",
       "         [2.37918216e-01],\n",
       "         [4.76603120e-05],\n",
       "         ...,\n",
       "         [0.00000000e+00],\n",
       "         [0.00000000e+00],\n",
       "         [0.00000000e+00]]]])"
      ]
     },
     "execution_count": 58,
     "metadata": {},
     "output_type": "execute_result"
    }
   ],
   "source": [
    "result_sec_x"
   ]
  },
  {
   "cell_type": "code",
   "execution_count": null,
   "id": "b20f9642",
   "metadata": {},
   "outputs": [],
   "source": []
  }
 ],
 "metadata": {
  "kernelspec": {
   "display_name": "Python 3 (ipykernel)",
   "language": "python",
   "name": "python3"
  },
  "language_info": {
   "codemirror_mode": {
    "name": "ipython",
    "version": 3
   },
   "file_extension": ".py",
   "mimetype": "text/x-python",
   "name": "python",
   "nbconvert_exporter": "python",
   "pygments_lexer": "ipython3",
   "version": "3.9.7"
  }
 },
 "nbformat": 4,
 "nbformat_minor": 5
}
